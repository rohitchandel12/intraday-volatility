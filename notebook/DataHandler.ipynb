{
 "cells": [
  {
   "cell_type": "code",
   "execution_count": 92,
   "metadata": {
    "collapsed": true
   },
   "outputs": [],
   "source": [
    "import csv\n",
    "from datetime import datetime\n",
    "import pandas as pd\n",
    "import requests\n",
    "import time\n",
    "\n",
    "def get_yahoo_finance_intraday(symbol, dt, interval='1m'):\n",
    "    \"\"\"\n",
    "    Retrieve intraday stock data from Yahoo Finance/data directory. \n",
    "    Parameters\n",
    "    ----------\n",
    "    symbol : str\n",
    "        Company symbol.\n",
    "    interval : string\n",
    "        Interval between stock values(5m| 1m | 1h).\n",
    "    dt : str\n",
    "        date (yyyy-mm-dd).\n",
    "    Returns\n",
    "    -------\n",
    "    df : pandas.DataFrame\n",
    "        DataFrame containing the opening price, high price, low price,\n",
    "        closing price, and volume. The index contains the times associated with\n",
    "        the retrieved price values.\n",
    "    \"\"\"\n",
    "    \n",
    "    #convert start and date to unix timestamp \n",
    "    try: \n",
    "        start_dt = datetime.strptime(dt, '%Y-%m-%d')\n",
    "        starttime = int(time.mktime(start_dt.timetuple()))\n",
    "        #adding 3600s to starttime to get EOD time\n",
    "        endtime = starttime + 24 * 60 * 60\n",
    "    except:\n",
    "        raise('Date format is invalid')\n",
    "    destination = os.path.join(os.pardir,\n",
    "                                   'data/{symbol}_{filename}_{interval}.csv'.format(\n",
    "                                    filename=dt,\n",
    "                                    interval=interval,\n",
    "                                    symbol=symbol\n",
    "                                    ))\n",
    "    \n",
    "    # we don't query if data exists \n",
    "    if os.path.isfile(destination):\n",
    "        result = pd.read_csv(destination)\n",
    "        result = result.set_index('timestamp')\n",
    "        return result\n",
    "    \n",
    "    uri = 'https://query1.finance.yahoo.com/v8/finance/chart' \\\n",
    "          '/{page}?symbol={symbol}&period1={start}&period2={end}' \\\n",
    "          '&interval={interval}&includePrePost=true&events=div%7Csplit%7Cearn&lang=en-US' \\\n",
    "          '&region=US&crumb=sJVUbTOFjBq&corsDomain=finance.yahoo.com'.format(page=symbol,\n",
    "                                                                             symbol=symbol,\n",
    "                                                                             start=starttime ,\n",
    "                                                                             end=endtime,\n",
    "                                                                             interval=interval)\n",
    "   \n",
    "    req = requests.get(url = uri) \n",
    "    #extracting response text  \n",
    "    data = req.json() \n",
    "    if data['chart']['error']:\n",
    "        raise Exception(data['chart']['error']['description'])\n",
    "    result = data['chart']['result']\n",
    "    result_df = None\n",
    "    if result:\n",
    "        result = pd.DataFrame.from_dict({\n",
    "                'timestamp': result[0]['timestamp'],\n",
    "                'open': result[0]['indicators']['quote'][0]['open'],\n",
    "                'close': result[0]['indicators']['quote'][0]['close'],\n",
    "                'high': result[0]['indicators']['quote'][0]['high'],\n",
    "                'low': result[0]['indicators']['quote'][0]['low'],\n",
    "                'volume': result[0]['indicators']['quote'][0]['volume']\n",
    "            })\n",
    "        result = result.set_index('timestamp')\n",
    "        #save result to data directory\n",
    "        result['symbol'] = symbol\n",
    "        result.to_csv(destination)\n",
    "    return result"
   ]
  },
  {
   "cell_type": "code",
   "execution_count": 91,
   "metadata": {
    "collapsed": false
   },
   "outputs": [],
   "source": [
    "djia_components = ['MMM', 'AXP', 'AAPL', 'CAT', 'CVX', 'CSCO',\n",
    "                   'DWDP', 'XOM', 'INTC', 'IBM', 'JNJ', 'JPM', 'MCD',\n",
    "                   'MRK', 'MSFT', 'NKE', 'PFE', 'BA', 'KO', 'GS', 'HD',\n",
    "                   'PG', 'TRV', 'DIS', 'UTX', 'UNH', 'VZ', 'V', 'WBA', 'WMT']\n",
    "\n",
    "dt_list = [ '2019-05-23', '2019-05-24', '2019-05-28', '2019-05-29']\n",
    "for comp in djia_components:\n",
    "    for dt in dt_list:\n",
    "        get_yahoo_finance_intraday(comp, dt)"
   ]
  },
  {
   "cell_type": "code",
   "execution_count": null,
   "metadata": {
    "collapsed": false
   },
   "outputs": [],
   "source": []
  },
  {
   "cell_type": "code",
   "execution_count": null,
   "metadata": {
    "collapsed": false
   },
   "outputs": [],
   "source": []
  },
  {
   "cell_type": "code",
   "execution_count": null,
   "metadata": {
    "collapsed": true
   },
   "outputs": [],
   "source": []
  }
 ],
 "metadata": {
  "kernelspec": {
   "display_name": "Python (intraday-volatility)",
   "language": "python",
   "name": "intraday-volatility"
  },
  "language_info": {
   "codemirror_mode": {
    "name": "ipython",
    "version": 3
   },
   "file_extension": ".py",
   "mimetype": "text/x-python",
   "name": "python",
   "nbconvert_exporter": "python",
   "pygments_lexer": "ipython3",
   "version": "3.6.8"
  }
 },
 "nbformat": 4,
 "nbformat_minor": 0
}
